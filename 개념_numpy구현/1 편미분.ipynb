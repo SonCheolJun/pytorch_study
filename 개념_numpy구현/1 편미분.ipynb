{
 "cells": [
  {
   "cell_type": "markdown",
   "metadata": {},
   "source": [
    "### 1. 미분\n",
    "\n",
    " 기울기란 x의 증가량에 따른 y의 증가량의 나타나는 지표이다.  \n",
    " x의 증가량을 아주 작은 단위로 변경한다면 두점의 거리는 0에 가까워져 한점이라고 표현이 가능할 것이다.  \n",
    " 그럼 한점, 한순간에 대한 기울기를 구할수 있다. 이걸 미분이라고 한다.  \n",
    " 수식은 아래 \"수식1\"를 참고하면 된다.    \n",
    "   \n",
    "   \n",
    " <b>수식1</b>\n",
    " <img src=\"../image/1-1_1_img.png\">\n",
    " \n",
    " 참조 - https://m.blog.naver.com/ssdyka/221299637545"
   ]
  },
  {
   "cell_type": "markdown",
   "metadata": {},
   "source": [
    "#### 변수가 1개일때"
   ]
  },
  {
   "cell_type": "code",
   "execution_count": 1,
   "metadata": {},
   "outputs": [],
   "source": [
    "import math\n",
    "\n",
    "import matplotlib.pyplot as plt\n",
    "import numpy as np\n",
    "import pandas as pd\n"
   ]
  },
  {
   "cell_type": "code",
   "execution_count": 2,
   "metadata": {},
   "outputs": [],
   "source": [
    "\"\"\" 수식1 구현 \"\"\"\n",
    "# 기울기(변화도) 파악\n",
    "def differential(f, x):\n",
    "    h = 1e-4\n",
    "    return (f(x+h)-f(x))/h\n",
    "\n",
    "## y = x^2\n",
    "def function(x):\n",
    "    return math.pow(x,2)\n"
   ]
  },
  {
   "cell_type": "markdown",
   "metadata": {},
   "source": [
    "2차 함수의 경우 아래로 볼록한 형태를 가지게되고 기울기가 0이 되는 시점을 가지고 있다."
   ]
  },
  {
   "cell_type": "code",
   "execution_count": 3,
   "metadata": {},
   "outputs": [
    {
     "data": {
      "image/png": "[encoded data removed]",
      "text/plain": [
       "<Figure size 432x288 with 1 Axes>"
      ]
     },
     "metadata": {},
     "output_type": "display_data"
    },
    {
     "name": "stdout",
     "output_type": "stream",
     "text": [
      " x값이 0일때 미분값: 9.999999999999999e-05\n",
      " x값이 20일때 미분값: 40.00009999970189\n",
      " x값이 -20일때 미분값: -39.999900000111666\n"
     ]
    }
   ],
   "source": [
    "plt.plot([i for i in range(-50,50)], [function(i) for i in range(-50,50)])\n",
    "plt.title('char1')\n",
    "plt.show()\n",
    "\n",
    "h = 1e-4\n",
    "print(f' x값이 0일때 미분값: {differential(function, 0)}\\n x값이 20일때 미분값: {differential(function, 20)}\\n x값이 -20일때 미분값: {differential(function, -20)}')\n"
   ]
  },
  {
   "cell_type": "markdown",
   "metadata": {},
   "source": [
    "#### 변수가 1개 이상일때 (편미분)\n",
    " 변수가 1개 이상일때는 대상 변수를 제외하고 나머지 변수는 상수 취급한다.  \n",
    " 각 변수별로 별도의 gradient를 각각 구하게 되면(미분) 특정 변수지점에서 미분의 크기가 가장 적은 방향으로 가는 vecter가 생성된다. (아래 quiver 차트 참조)  "
   ]
  },
  {
   "cell_type": "code",
   "execution_count": 4,
   "metadata": {},
   "outputs": [],
   "source": [
    "\"\"\" gradient \"\"\"\n",
    "\n",
    "### 타겟(idx)를 미분한다.\n",
    "def differential_2(f, x, h, idx):\n",
    "    t = x.copy()\n",
    "    t[idx] += h\n",
    "    return (f(t)-f(x))/h\n",
    "\n",
    "### 변수별 미분값을 구한다.\n",
    "def gradient(f, x):\n",
    "    h = 1e-4\n",
    "    grad = np.zeros_like(x)\n",
    "    \n",
    "    for idx in range(len(x)):\n",
    "        grad[idx] = differential_2(f, x, h, idx)\n",
    "        \n",
    "    return grad\n",
    "\n",
    "\"\"\" 수식정의 \"\"\"\n",
    "\n",
    "### y = 3x^2\n",
    "def function_1(x):\n",
    "    return math.pow(3*x,2)\n",
    "\n",
    "### y = 2x^2\n",
    "def function_2(x):\n",
    "    return math.pow(2*x,2)\n",
    "\n",
    "### y = 3x^2+2x^2\n",
    "def function_3(x):\n",
    "    return function_1(x[0])+function_2(x[1])\n"
   ]
  },
  {
   "cell_type": "code",
   "execution_count": null,
   "metadata": {
    "scrolled": false
   },
   "outputs": [],
   "source": [
    "\"\"\" 시각화를 위한 값 추출 \"\"\"\n",
    "x1, x2, x1_g, x2_g = [], [], [],[]\n",
    "s_t, e_t, m = -2, 2, 0.1\n",
    "ep = int((e_t-s_t)/m)\n",
    "for i in range(ep):\n",
    "    s_t += m\n",
    "    for z in range(ep):\n",
    "        e_t -= m\n",
    "        g = gradient(function_3, [s_t, e_t])\n",
    "        \n",
    "        x1_g.append(g[0])\n",
    "        x2_g.append(g[1])\n",
    "        x1.append(s_t)\n",
    "        x2.append(e_t)\n",
    "    e_t = 2\n",
    "\n",
    "\"\"\" 데이터 시각화\"\"\"\n",
    "\n",
    "plt.figure(figsize=(10,10))\n",
    "plt.quiver(x1, x2, np.array(x1_g) * -1, np.array(x2_g) * -1,  angles=\"xy\",color=\"#666666\")\n",
    "plt.title('gradient visualization')\n",
    "plt.show()\n"
   ]
  },
  {
   "cell_type": "markdown",
   "metadata": {},
   "source": [
    "우리는 각 변수들이 기울기가 0인 상태로 상태값을 이동해야한다.(나중에 y값이 loss)  \n",
    "char1를 살펴보면 기울기가 양수의 경우 y값이 가장낮은 상태로 이동하기 위해서는 x값이 - 방향으로 이동해야한다.  \n",
    "반대로 기울기가 음수인 경우 y이 가장 낮은 상태로 이동하기 위해서는 x값이 + 방향으로 이동해야한다.  "
   ]
  },
  {
   "cell_type": "code",
   "execution_count": null,
   "metadata": {},
   "outputs": [],
   "source": [
    "\"\"\" \n",
    "    x_1의 기울기를 살펴보면 양수이기 때문에 x1에 값을 - 방향으로 이동해야하는걸 알 수 있다.\n",
    "    반대로 x2의 기울기는 음수인것으로 보아 x2의 값을 양수의 방향으로 이동시켜야한다.\n",
    "\"\"\"\n",
    "print(x1[0], x2[0], x1_g[0], x2_g[0])\n",
    "\n",
    "\"\"\"\n",
    "    이동후 해당 기울기가 감소된걸 확인할 수 있다.\n",
    "\"\"\"\n",
    "new_x1, new_x2 = x1[0]-(x1_g[0]*0.01), x2[0]-(x2_g[0]*0.01)\n",
    "new_g = gradient(function_3, [new_x1, new_x2])\n",
    "\n",
    "pd.DataFrame(\n",
    "    [[x1[0], x2[0], x1_g[0], x2_g[0]],[new_x1, new_x2, new_g[0], new_g[1]]],\n",
    "    columns = ['x1', 'x2', 'x1_diff', 'x2_diff']\n",
    ")\n"
   ]
  },
  {
   "cell_type": "markdown",
   "metadata": {},
   "source": [
    "### 2. gradient descent algorithm\n",
    "\n",
    " 위 내용에서 우리는 특정 시점에서 가장 낮은 기울기로 가는 방법을 파악했다.  \n",
    " 그럼 실제 gradient descent algorithm을 통해 최적 지점을 찾아가는 코드를 작성해보자"
   ]
  },
  {
   "cell_type": "code",
   "execution_count": null,
   "metadata": {},
   "outputs": [],
   "source": [
    "\"\"\" 수식 정의 \"\"\"\n",
    "### y = 3.2x^2 + 2x + 4\n",
    "def function1(x):\n",
    "    return math.pow(3.2*x, 2) + 2*x +4\n",
    "\n",
    "### y = 1.2x^2 + 5x + 19\n",
    "def function2(x):\n",
    "    return math.pow(-1.2*x, 2) + 5*x + 19\n",
    "\n",
    "### y = function1+function2\n",
    "def function(x):\n",
    "    return function1(x[0])+function2(x[1])\n",
    "\n",
    "### differential\n",
    "def differential(x, idx):\n",
    "    h = 1e-6\n",
    "    t = x.copy()\n",
    "    t[idx] += h\n",
    "    return (function(t) - function(x))/h\n",
    "\n",
    "### gradient_descent\n",
    "def gradient_descent(x, rete):\n",
    "    grd = np.zeros_like(x)\n",
    "    for i in range(len(x)):\n",
    "        grd[i] = differential(x, i)\n",
    "    m_grd = grd * rete\n",
    "    return np.array(x) - m_grd, grd   \n"
   ]
  },
  {
   "cell_type": "code",
   "execution_count": null,
   "metadata": {},
   "outputs": [],
   "source": [
    "\"\"\" 학습하기 epoch 100 \"\"\"\n",
    "epoch = 100\n",
    "x1, x2 = -20, 15\n",
    "step_log, grd_log = [], []\n",
    "for i in range(epoch):\n",
    "    step_log.append([x1, x2])\n",
    "    (x1, x2), grd = gradient_descent([x1, x2], 0.03)\n",
    "    grd_log.append(grd.tolist())\n",
    "    "
   ]
  },
  {
   "cell_type": "code",
   "execution_count": null,
   "metadata": {},
   "outputs": [],
   "source": [
    "\"\"\" 학습 내용 시각화 \"\"\"\n",
    "step_log = np.array(grd_log)\n",
    "final_log = step_log[-1]\n",
    "move_size = (step_log[0]-step_log[-1])+1\n",
    "move_size = [40,40]\n",
    "\n",
    "### circle 그리기\n",
    "figure, axes = plt.subplots()\n",
    "for p in [3,5,10, 20, 30]:\n",
    "    draw_circle = plt.Circle((0, 0),p , fill=False, ls = '--')\n",
    "    axes.add_artist(draw_circle)\n",
    "\n",
    "plt.xlim(-move_size[0], move_size[0])\n",
    "plt.ylim(-move_size[1], move_size[1])\n",
    "\n",
    "### 학습 시각화 (scatter)\n",
    "plt.scatter(np.array(step_log)[:,0], np.array(step_log)[:,1])\n",
    "plt.show()\n"
   ]
  },
  {
   "cell_type": "markdown",
   "metadata": {},
   "source": [
    "학습율이 너무 커 버리면 최적화가 옳바르게 되지 않는다. 최적점 이상으로 이동해버림  \n",
    "너무 커버리면 아에 팅겨져나간다. ex) 0.1  "
   ]
  },
  {
   "cell_type": "code",
   "execution_count": null,
   "metadata": {},
   "outputs": [],
   "source": [
    "epoch = 100\n",
    "x1, x2 = 15000, -200\n",
    "step_log, grd_log = [], []\n",
    "for i in range(epoch):\n",
    "    step_log.append([x1, x2])\n",
    "    (x1, x2), grd = gradient_descent([x1, x2], 0.092)\n",
    "    grd_log.append(grd.tolist())\n",
    "    "
   ]
  },
  {
   "cell_type": "code",
   "execution_count": null,
   "metadata": {},
   "outputs": [],
   "source": [
    "step_log = np.array(grd_log)\n",
    "final_log = step_log[-1]\n",
    "move_size = (step_log[0]-step_log[-1])+1\n",
    "move_size = [40,40]\n",
    "\n",
    "figure, axes = plt.subplots()\n",
    "for p in [3,5,10, 20, 30]:\n",
    "    draw_circle = plt.Circle((0, 0),p , fill=False, ls = '--')\n",
    "    axes.add_artist(draw_circle)\n",
    "\n",
    "plt.xlim(-move_size[0], move_size[0])\n",
    "plt.ylim(-move_size[1], move_size[1])\n",
    "plt.scatter(np.array(step_log)[:,0], np.array(step_log)[:,1])\n",
    "plt.show()"
   ]
  },
  {
   "cell_type": "markdown",
   "metadata": {},
   "source": [
    "### 3. 행렬과 loss 최적화\n",
    "\n",
    "#### 3_1 - 각 w 별 미분 진행\n",
    "   \n",
    " <b>수식2</b>\n",
    " <img src=\"../image/1-1_2_img.png\">"
   ]
  },
  {
   "cell_type": "code",
   "execution_count": null,
   "metadata": {},
   "outputs": [],
   "source": [
    "\"\"\" loss function - 실제값과 예측값의 제곱\"\"\"\n",
    "def loss_function(y, y_prob):\n",
    "    loss = y - y_prob\n",
    "    return np.power(loss,2).sum()\n",
    "\n",
    "\"\"\" forward \"\"\"\n",
    "def forward(x, w):\n",
    "    return x.dot(w)\n",
    "\n",
    "\"\"\" gradient\"\"\"\n",
    "def gradient(x, y, w):\n",
    "    grd_np = np.zeros_like(w)\n",
    "    h = 1e-5\n",
    "\n",
    "    for i in range(grd_np.shape[0]):\n",
    "        for z in range(grd_np.shape[1]):\n",
    "            m_w = w.copy()\n",
    "            m_w[i, z] += h\n",
    "            grd_np[i, z] = (loss_function(y, forward(x,m_w)) - loss_function(y, forward(x,w))) / h\n",
    "    return grd_np\n",
    "\n"
   ]
  },
  {
   "cell_type": "code",
   "execution_count": null,
   "metadata": {
    "scrolled": true
   },
   "outputs": [],
   "source": [
    "\"\"\" 변수 정의 \"\"\"\n",
    "x = np.array([[170, 27]])\n",
    "y = np.array([[70, 52, 32]])\n",
    "w = np.random.randn(2,3)\n",
    "\n",
    "\"\"\" step \"\"\"\n",
    "epoch = 100\n",
    "loss_log = []\n",
    "for e in range(epoch):\n",
    "    rate = 1e-5\n",
    "    \n",
    "    ### step\n",
    "    grd_np = gradient(x, y, w)\n",
    "    w -= grd_np*rate\n",
    "    \n",
    "    ### loss\n",
    "    loss = loss_function(y, forward(x,w))\n",
    "    loss_log.append(loss)\n",
    "    print(f'epoch: {e},loss:{loss}')\n",
    "    \n",
    "plt.plot(loss_log)\n",
    "plt.title('loss')\n",
    "plt.show()\n",
    "print('예측값:', forward(x,w))\n",
    "print('실제값:', y)\n",
    "     "
   ]
  },
  {
   "cell_type": "markdown",
   "metadata": {},
   "source": [
    "#### 3_2 - 행렬을 연산을 통해 미분 진행   \n",
    "  \n",
    " x- 스칼라 W- 행렬  \n",
    " \n",
    " $$ \\hat y = xW \\ (1)$$\n",
    "   \n",
    " $$ loss = y - \\hat y \\ (2)$$\n",
    "   \n",
    " $$ {\\partial \\ loss  \\over \\partial \\ W} = {\\partial \\ (y - \\hat y) \\over \\partial \\ W} \\ (3)$$\n",
    "   \n",
    " $$ {\\partial \\ loss  \\over \\partial \\ W} = {\\partial \\ (y - \\hat y) \\over \\partial \\ W} \\ (4)$$\n",
    "  \n",
    " $$ {\\partial \\ loss  \\over \\partial \\ W} = {\\partial \\ (y - xW) \\over \\partial \\ W} \\ (5)$$\n",
    "   \n",
    " $$ ======================== 베이스수식 ========================  $$\n",
    "   \n",
    " $$ 1차 함수의 미분  $$\n",
    "   \n",
    " $$ {\\partial \\ aw \\over \\partial \\ w}  = a^T $$\n",
    " \n",
    " $$ ======================== 아래 적용 ========================  $$\n",
    "   \n",
    " $$ {\\partial \\ loss  \\over \\partial \\ W} = {\\partial \\ (y - xW) \\over \\partial \\ W} \\ (6)$$\n",
    "   \n",
    " $$ {\\partial \\ loss  \\over \\partial \\ W} = -x^T \\ (7)$$\n",
    " \n",
    " $$ ======================== gradient descent ========================  $$\n",
    " \n",
    " $$ w -= -x^T*loss * \\eta \\ (7) \\\\\n",
    " \\eta - step \\ rate $$"
   ]
  },
  {
   "cell_type": "code",
   "execution_count": null,
   "metadata": {
    "scrolled": true
   },
   "outputs": [],
   "source": [
    "\"\"\" 변수 정의 \"\"\"\n",
    "x = np.array([[170, 27]])\n",
    "y = np.array([[70, 52, 32]])\n",
    "w = np.random.randn(2,3)\n",
    "loss_log = []\n",
    "epoch = 50\n",
    "for e in range(epoch):\n",
    "    y_hat = x.dot(w)\n",
    "    loss = y - y_hat\n",
    "    w += (x.T.dot(loss)*1e-5)\n",
    "\n",
    "    loss_log.append(abs(loss.sum()))\n",
    "    print(f'epoch: {e},loss:{loss}')\n",
    "    \n",
    "plt.plot(loss_log)\n",
    "plt.title('loss')\n",
    "plt.show()\n",
    "print('예측값:', forward(x,w))\n",
    "print('실제값:', y)\n"
   ]
  },
  {
   "cell_type": "code",
   "execution_count": null,
   "metadata": {},
   "outputs": [],
   "source": []
  }
 ],
 "metadata": {
  "kernelspec": {
   "display_name": "Python 3",
   "language": "python",
   "name": "python3"
  },
  "language_info": {
   "codemirror_mode": {
    "name": "ipython",
    "version": 3
   },
   "file_extension": ".py",
   "mimetype": "text/x-python",
   "name": "python",
   "nbconvert_exporter": "python",
   "pygments_lexer": "ipython3",
   "version": "3.6.4"
  }
 },
 "nbformat": 4,
 "nbformat_minor": 2
}
