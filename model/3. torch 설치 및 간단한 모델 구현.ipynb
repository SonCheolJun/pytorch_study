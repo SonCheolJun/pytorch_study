{
 "cells": [
  {
   "cell_type": "markdown",
   "metadata": {},
   "source": [
    "### pytorch 사용법을 익힌다\n",
    " 1. 설치\n",
    " 2. 간단한 모델 구축 (https://pytorch.org/tutorials/beginner/pytorch_with_examples.html)"
   ]
  },
  {
   "cell_type": "markdown",
   "metadata": {},
   "source": [
    "#### 1. 설치"
   ]
  },
  {
   "cell_type": "code",
   "execution_count": 2,
   "metadata": {},
   "outputs": [],
   "source": [
    "!pip3 install torch==1.5.0"
   ]
  },
  {
   "cell_type": "code",
   "execution_count": 73,
   "metadata": {},
   "outputs": [],
   "source": [
    "import torch\n",
    "import torch.nn as nn\n"
   ]
  },
  {
   "cell_type": "markdown",
   "metadata": {},
   "source": [
    "#### 2. 간단한 모델 구축해보기"
   ]
  },
  {
   "cell_type": "markdown",
   "metadata": {},
   "source": [
    "torch는 클래스 형태로 모델을 설계하고 구축할 수 있다.  \n",
    "기본적으로 nn.Module를 상속받아서 모델을 구축하게 되고 class 인스턴스를 호출하게 되면 forword 메소드에 전달되게 된다.  \n",
    "forword 메소드에서는 입력받는 데이터(x)를 구축한 모델에 넣어 output를 리턴하는 코드를 작성하게 된다.\n"
   ]
  },
  {
   "cell_type": "code",
   "execution_count": 61,
   "metadata": {},
   "outputs": [],
   "source": [
    "N, D_in, H, D_out = 64, 1000, 100, 10 \n",
    "\n",
    "x = torch.rand(N, D_in)\n",
    "y = torch.rand(N, D_out)\n",
    "\n",
    "w1 = torch.rand(D_in, H)\n",
    "w2 = torch.rand(H, D_out)\n"
   ]
  },
  {
   "cell_type": "code",
   "execution_count": 101,
   "metadata": {},
   "outputs": [],
   "source": [
    "class Neural_network(nn.Module):\n",
    "    def __init__(self, D_in, H, D_out):\n",
    "        super().__init__()\n",
    "        \n",
    "        self.linear1 = nn.Linear(D_in, H)\n",
    "        self.linear2 = nn.Linear(H, D_out)\n",
    "        \n",
    "        self.leru = nn.ReLU()\n",
    "        \n",
    "    def forward(self, x):\n",
    "        z1 = self.linear1(x)\n",
    "        a1 = self.leru(z1)\n",
    "        y_hap = self.linear2(a1)\n",
    "        \n",
    "        return y_hap\n",
    "        "
   ]
  },
  {
   "cell_type": "code",
   "execution_count": 104,
   "metadata": {
    "scrolled": true
   },
   "outputs": [
    {
     "name": "stdout",
     "output_type": "stream",
     "text": [
      "0 0.3570590615272522\n",
      "100 0.1669827401638031\n",
      "200 0.09981932491064072\n",
      "300 0.0854039341211319\n",
      "400 0.08226896822452545\n",
      "500 0.08099975436925888\n",
      "600 0.08007390797138214\n",
      "700 0.07923462986946106\n",
      "800 0.07843592762947083\n",
      "900 0.07767592370510101\n"
     ]
    }
   ],
   "source": [
    "epoch = 1000\n",
    "model = Neural_network(D_in, H, D_out)\n",
    "criterion = torch.nn.MSELoss()\n",
    "optimizer = torch.optim.SGD(model.parameters(), lr=1e-3)\n",
    "\n",
    "for i in range(epoch):\n",
    "    y_pred = model(x)\n",
    "    loss = criterion(y_pred, y)\n",
    "\n",
    "    optimizer.zero_grad()\n",
    "    loss.backward()\n",
    "    optimizer.step()\n",
    "    \n",
    "    if i % 100 == 0:\n",
    "        print(i, loss.item())\n"
   ]
  }
 ],
 "metadata": {
  "kernelspec": {
   "display_name": "Python 3",
   "language": "python",
   "name": "python3"
  },
  "language_info": {
   "codemirror_mode": {
    "name": "ipython",
    "version": 3
   },
   "file_extension": ".py",
   "mimetype": "text/x-python",
   "name": "python",
   "nbconvert_exporter": "python",
   "pygments_lexer": "ipython3",
   "version": "3.6.4"
  }
 },
 "nbformat": 4,
 "nbformat_minor": 2
}
