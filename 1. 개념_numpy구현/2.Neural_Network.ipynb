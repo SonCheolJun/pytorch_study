{
 "cells": [
  {
   "cell_type": "markdown",
   "metadata": {},
   "source": [
    "### Neural Network\n",
    "\n",
    " 공부와 수면시간과 성적의 관계를 통해 가장 기본적 딥러닝 모델을 numpy를 통해 구축해보자\n",
    "   \n",
    " <b>참고</b>  \n",
    " https://www.youtube.com/watch?v=bxe2T-V8XRs&list=RDCMUConVfxXodg78Tzh5nNu85Ew&index=5"
   ]
  },
  {
   "cell_type": "markdown",
   "metadata": {},
   "source": [
    "#### step 1 - 데이터 정의\n",
    "   \n",
    "x - 공부시간, 수면시간  \n",
    "y - 성적"
   ]
  },
  {
   "cell_type": "code",
   "execution_count": 1,
   "metadata": {},
   "outputs": [],
   "source": [
    "import numpy as np\n",
    "\n",
    "x = np.array([[3, 5],[5, 1],[10, 2]])\n",
    "y = np.array([[0.75], [0.82], [0.93]])\n"
   ]
  },
  {
   "cell_type": "markdown",
   "metadata": {},
   "source": [
    "#### step2 - forward propagation\n",
    " forward propagation 은 아래 (1), (2), (3), (4) 수식을 걸쳐서 이루어진다.  \n",
    " 모델구조는 hidden layer - 1, neural - 3로 구성되며 f는 활성함수(activation function)으로 sigmoid를 사용할 것이다.\n",
    "\n",
    " $$z_2 = XW_1 \\ (1)$$\n",
    " $$a_2 = f(z_2) \\ (2)$$\n",
    " $$z_3 = a_2W_2 \\ (3)$$\n",
    " $$ \\hat y = f(z_3) \\ (4)$$\n",
    " $$loss = L(y,\\hat y) \\ (5)$$"
   ]
  },
  {
   "cell_type": "code",
   "execution_count": 2,
   "metadata": {},
   "outputs": [],
   "source": [
    "class Neural_Network(object):\n",
    "    def __init__(self, input_layer_size, output_layer_size, hidden_layer_size):\n",
    "        self.input_layer_size = input_layer_size\n",
    "        self.output_layer_size = output_layer_size\n",
    "        self.hidden_layer_size = hidden_layer_size\n",
    "        self.W1 = np.random.randn(self.input_layer_size, self.hidden_layer_size)\n",
    "        self.W2 = np.random.randn(self.hidden_layer_size, self.output_layer_size)\n",
    "        \n",
    "    def forward(self, X):\n",
    "        z2 = X.dot(self.W1)\n",
    "        a2 = self.sigmoid(z2)\n",
    "        z3 = a2.dot(self.W2)\n",
    "        y_hat = self.sigmoid(z3)\n",
    "        return y_hat\n",
    "    \n",
    "    def sigmoid(self, z):\n",
    "        return 1/(1+np.exp(-z))\n",
    "\n",
    "    \n",
    "def MSE(y, y_hat):\n",
    "    return np.power(y-y_hat,2)/2\n",
    "        "
   ]
  },
  {
   "cell_type": "code",
   "execution_count": 3,
   "metadata": {},
   "outputs": [
    {
     "data": {
      "text/plain": [
       "array([[0.01553813],\n",
       "       [0.00461452],\n",
       "       [0.0185075 ]])"
      ]
     },
     "execution_count": 3,
     "metadata": {},
     "output_type": "execute_result"
    }
   ],
   "source": [
    "nn = Neural_Network(2,1,3)\n",
    "loss = MSE(y, nn.forward(x))\n",
    "loss"
   ]
  },
  {
   "cell_type": "markdown",
   "metadata": {},
   "source": [
    "#### step3 - back propagation  \n",
    " \n",
    " 각 weghit 변수 마다 gradient를 적용하여 loss가 가장 적은 weghit 값을 찾아야한다.  \n",
    " gradinet를 사용하는 이유는 모든 weghit를 전체 탐사하여 최적점을 찾기에는 비용(시간)이 기하급수적으로 늘어난다.    \n",
    " gredient를 통해 각 loss를 최소화 시키는 w 방향(기울기)를 찾아 조절함을 통해 최소한의 비용으로 모델 최적화를 이뤄낸다.  \n",
    " 결국 loss를 구하고 해당 loss를 최소화 시키는 w2를 구하고 w2를 최적화 시키는 w1을 구하는 식으로 output layer로 부터 input layer까지 역으로 w 값 최적화를 진행한다.   \n",
    " 이러한 방법을 back propagation이라고 한다.\n"
   ]
  },
  {
   "cell_type": "markdown",
   "metadata": {},
   "source": [
    "$$ {\\partial \\ loss \\over \\partial \\ W1} = \\left[\n",
    "\\begin{matrix}\n",
    "    {\\partial \\ loss \\over \\partial \\ w_{11}} & {\\partial \\ loss \\over \\partial \\ w_{12}} & {\\partial \\ loss \\over \\partial \\ w_{13}} \\\\\n",
    "    {\\partial \\ loss \\over \\partial \\ w_{21}} & {\\partial \\ loss \\over \\partial \\ w_{22}} & {\\partial \\ loss \\over \\partial \\ w_{23}} \\\\\n",
    "\\end{matrix}\n",
    "\\right] $$\n",
    "\n",
    "$$ {\\partial \\ loss \\over \\partial \\ W2} = \\left[\n",
    "\\begin{matrix}\n",
    "    {\\partial \\ loss \\over \\partial \\ w_{11}}  \\\\\n",
    "    {\\partial \\ loss \\over \\partial \\ w_{21}}  \\\\\n",
    "    {\\partial \\ loss \\over \\partial \\ w_{31}}  \\\\\n",
    "\\end{matrix}\n",
    "\\right] $$"
   ]
  },
  {
   "cell_type": "markdown",
   "metadata": {},
   "source": [
    "#### step3_1 - sum rule in differentiation\n",
    " loss 를 구하기 위한 MSE 수식을 가져온다.   \n",
    " 미분의 합은 합의 미분과 같기 때문에 미분을 취하고 합을 취해도 된다.\n",
    " \n",
    " $${\\partial \\ loss \\over \\partial \\ W_2} = {\\partial \\sum {1 \\over 2} (y - \\hat y)^2 \\over \\partial W_2} $$\n",
    "   \n",
    " $${\\partial \\ loss \\over \\partial \\ W_2} = \\sum{\\partial \\ {1 \\over 2} (y - \\hat y)^2 \\over \\partial W_2} $$\n",
    " \n",
    "#### step3_2 - chain rule1\n",
    "  아래 chain rule 수식을 이용하여 loss 함수의 제곱을 제거해준다.\n",
    "    \n",
    " $$ ======================== 베이스수식 ========================  $$\n",
    "   \n",
    " $$(g \\cdot x)^\\prime = (g \\cdot x)g^\\prime$$\n",
    "   \n",
    " $$ex) {\\partial x \\over \\partial}(3x^2+7x)^2 = 2(3x^2+7x)(6x+7)$$\n",
    " \n",
    "$$ ======================== 아래 적용 ========================  $$\n",
    " \n",
    " $${\\partial \\ loss \\over \\partial \\ W_2} = 2* {1 \\over 2} (y-\\hat y)({y \\over \\partial W_2} - {\\hat y \\over \\partial W_2})$$\n",
    "   \n",
    "  $${\\partial \\ loss \\over \\partial \\ W_2} =  1 (y-\\hat y)(0 - {\\hat y \\over \\partial W_2})$$\n",
    "  \n",
    "  $${\\partial \\ loss \\over \\partial \\ W_2} =  -(y-\\hat y)({\\hat y \\over \\partial W_2})$$\n",
    " \n",
    "#### step3_3 - chain rule 2\n",
    "  \n",
    " $$ ======================== 베이스수식 ========================  $$\n",
    " \n",
    " $${\\partial y \\over \\partial x} = {\\partial y \\over \\partial z}\\cdot{\\partial z \\over \\partial x}$$\n",
    "   \n",
    "$$ ======================== 아래 적용 ========================  $$\n",
    "   \n",
    " $${\\partial \\ loss \\over \\partial \\ W_2} =  -(y-\\hat y)({\\partial \\hat y \\over \\partial z_3}\\cdot{\\partial z_3 \\over \\partial W_2})$$\n",
    "   \n",
    " $$ {\\partial \\hat y \\over \\partial z_3} = {\\partial f(z_3) \\over \\partial z_3}$$\n",
    "   \n",
    "   \n",
    "#### step3_4 - f(z_3) 미분 (sigmoid)\n",
    "\n",
    " $$ ======================== 베이스수식 ========================  $$\n",
    "  \n",
    " $$ f(x) = {u \\over v} $$ \n",
    "   \n",
    " $$ f^\\prime(x) = {u^\\prime v - uv^\\prime \\over v^2} $$ \n",
    " \n",
    " $$ ======================== 아래 적용 ========================  $$\n",
    "   \n",
    " $$ f(z) = {1 \\over 1+e^{-z}}$$ \n",
    "   \n",
    " $$ f^\\prime(z) = {0(1+e^{-z}) - 1(0-e^{-z}) \\over (1+e^{-z})^2}$$\n",
    "   \n",
    " $$ f^\\prime(z) =  {e^{-z} \\over (1+e^{-z})^2}$$\n",
    "\n",
    "  $${\\partial \\ loss \\over \\partial \\ W_2} =  -(y-\\hat y)( \\ f^\\prime(z_3)\\cdot{\\partial z_3 \\over \\partial W_2} \\ )$$\n",
    "    "
   ]
  },
  {
   "cell_type": "code",
   "execution_count": 4,
   "metadata": {},
   "outputs": [
    {
     "data": {
      "text/plain": [
       "<Figure size 640x480 with 1 Axes>"
      ]
     },
     "metadata": {},
     "output_type": "display_data"
    }
   ],
   "source": [
    "import matplotlib.pyplot as plt\n",
    "\n",
    "def sigmoid_prime(z):\n",
    "    return np.exp(-z)/np.power(1+np.exp(-z),2)\n",
    "\n",
    "def sigmoid(z):\n",
    "        return 1/(1+np.exp(-z))\n",
    "\n",
    "sig = sigmoid(np.array([i for i in range(-10, 10)]))\n",
    "sig_prime = sigmoid_prime(np.array([i for i in range(-10, 10)]))\n",
    "\n",
    "plt.title('sigmoid differentiation')\n",
    "plt.plot(sig)\n",
    "plt.plot(sig_prime)\n",
    "plt.show()\n"
   ]
  },
  {
   "cell_type": "markdown",
   "metadata": {},
   "source": [
    "#### step3_5 - w2 미분값 추출\n",
    "\n",
    " $$ ======================== 베이스수식 ========================  $$\n",
    "   \n",
    " $$ 1차 함수의 미분  $$\n",
    "   \n",
    " $$ {\\partial \\ aw \\over \\partial \\ w}  = a^T $$\n",
    " \n",
    " $$ ======================== 아래 적용 ========================  $$\n",
    " \n",
    " $${\\partial \\ loss \\over \\partial \\ W_2} =  -(y-\\hat y)( \\ f^\\prime(z_3)\\cdot{\\partial z_3 \\over \\partial W_2} )$$\n",
    "  \n",
    " $${\\partial \\ loss \\over \\partial \\ W_2} =  -(y-\\hat y)( \\ f^\\prime(z_3)\\cdot{\\partial \\ a_2W_2 \\over \\partial W_2} )$$\n",
    "   \n",
    "  $${\\partial \\ loss \\over \\partial \\ W_2} =  -{a_2^T}\\cdot(y-\\hat y)\\ f^\\prime(z_3)$$\n",
    "  \n",
    "  \n",
    "#### step3_6 - w1 미분값 추출\n",
    "  $${\\partial \\ loss \\over \\partial \\ W_1} = -(y-\\hat y) \\ ({\\partial \\hat y \\over W_1}) = -(y-\\hat y)({\\partial \\hat y \\over \\partial z_3} \\cdot {\\partial z_3 \\over \\partial a_2} \\cdot {\\partial a_2 \\over \\partial z_2} \\cdot {\\partial  z_2 \\over \\partial W_1})$$\n",
    "  \n",
    "  $${\\partial \\ loss \\over \\partial \\ W_1} = -(y-\\hat y)({\\partial f(z_3) \\over \\partial z_3} \\cdot {\\partial (a_2 \\cdot W_2) \\over \\partial a_2} \\cdot {\\partial f(z_2) \\over \\partial z_2} \\cdot {\\partial  (X \\cdot W_1) \\over \\partial W_1})$$\n",
    "    \n",
    "  $${\\partial \\ loss \\over \\partial \\ W_1} = -(y-\\hat y)({f^\\prime(z_3)} \\cdot { W_2^T} \\cdot {f^\\prime(z_2)} \\cdot {\\partial  (X \\cdot W_1) \\over \\partial W_1})$$\n",
    "    \n",
    "  $${\\delta_1 = -(y-\\hat y)\\ f^\\prime(z_3)}$$\n",
    "    \n",
    "  $${\\delta_2 = \\delta_1 \\cdot { W_2^T} \\cdot {f^\\prime(z_2)}}$$\n",
    "  \n",
    "  $${\\partial \\ loss \\over \\partial \\ W_1} = \\delta_2{\\partial  (X \\cdot W_1) \\over \\partial W_1}= X^T \\cdot \\delta_2$$\n",
    "    \n",
    "\n"
   ]
  },
  {
   "cell_type": "code",
   "execution_count": 5,
   "metadata": {},
   "outputs": [],
   "source": [
    "### step code\n",
    "x = np.array([[3, 5],[5, 1],[10, 2]])\n",
    "y = np.array([[0.75], [0.82], [0.93]])\n",
    "w1 = np.random.randn(2,4)\n",
    "w2 = np.random.randn(4,1)\n",
    "\n",
    "\n",
    "z1 = x.dot(w1)\n",
    "a1 = sigmoid(z1)\n",
    "z2 = a1.dot(w2) \n",
    "y_hat = sigmoid(z2)\n",
    "loss = MSE(y,y_hat)/2\n",
    "\n",
    "\n",
    "delta1 = (y_hat-y)*sigmoid_prime(z2)\n",
    "w2_gred = a1.T.dot(delta1)\n",
    "\n",
    "delta2 = np.dot(delta1, w2.T) * sigmoid_prime(z1)\n",
    "w1_gred = np.dot(x.T, delta2)\n",
    "\n"
   ]
  },
  {
   "cell_type": "code",
   "execution_count": 6,
   "metadata": {},
   "outputs": [],
   "source": [
    "### step code Class\n",
    "class Neural_Network(object):\n",
    "    def __init__(self, input_layer_size, output_layer_size, hidden_layer_size):\n",
    "        self.input_layer_size = input_layer_size\n",
    "        self.output_layer_size = output_layer_size\n",
    "        self.hidden_layer_size = hidden_layer_size\n",
    "        self.W1 = np.random.randn(self.input_layer_size, self.hidden_layer_size)\n",
    "        self.W2 = np.random.randn(self.hidden_layer_size, self.output_layer_size)\n",
    "        \n",
    "    def forward(self, X):\n",
    "        lr = 3\n",
    "        ### forward propagation\n",
    "        self.z2 = X.dot(self.W1)\n",
    "        self.a2 = self.sigmoid(self.z2)\n",
    "        self.z3 = self.a2.dot(self.W2)\n",
    "        y_hat = self.sigmoid(self.z3)\n",
    "        \n",
    "        return y_hat\n",
    "    \n",
    "    def cost_function_prime(self, X, y):\n",
    "        y_hat = self.forward(X)\n",
    "        loss = self.MSE(y, y_hat)\n",
    "        \n",
    "        delta1 = np.multiply(-(y-y_hat), self.sigmoid_prime(self.z3))\n",
    "        w2_grad = np.dot(self.a2.T, delta1)\n",
    "        \n",
    "        delta2 = np.multiply(np.dot(delta1, self.W2.T), sigmoid_prime(self.z2))\n",
    "        w1_grad = np.dot(X.T, delta2)\n",
    "        return w1_grad, w2_grad\n",
    "    \n",
    "    def sigmoid(self, z):\n",
    "        return 1/(1+np.exp(-z))\n",
    "    \n",
    "    def MSE(self, y, y_hat):\n",
    "        return np.power((y-y_hat),2)/2\n",
    "    \n",
    "    def sigmoid_prime(self, z):\n",
    "        return np.exp(-z)/np.power(1+np.exp(-z),2)\n"
   ]
  },
  {
   "cell_type": "code",
   "execution_count": 54,
   "metadata": {
    "scrolled": true
   },
   "outputs": [
    {
     "name": "stdout",
     "output_type": "stream",
     "text": [
      "epoch:0, loss:0.7171301722028605\n",
      "epoch:10, loss:0.06674063590795572\n",
      "epoch:20, loss:0.00907419499756032\n",
      "epoch:30, loss:0.005009852244128016\n",
      "epoch:40, loss:0.0038737143476842615\n"
     ]
    },
    {
     "data": {
      "image/png": "[encoded data removed]",
      "text/plain": [
       "<Figure size 432x288 with 1 Axes>"
      ]
     },
     "metadata": {},
     "output_type": "display_data"
    }
   ],
   "source": [
    "input_layer_size = x.shape[1]\n",
    "output_layer_size = y.shape[1]\n",
    "hidden_layer_size = 4\n",
    "epoch = 50\n",
    "\n",
    "model = Neural_Network(input_layer_size, output_layer_size, hidden_layer_size)\n",
    "loss_list = []\n",
    "\n",
    "for i in range(epoch):\n",
    "    y_hat = model.forward(x)\n",
    "    w1_grad, w2_grad = model.cost_function_prime(x,y)\n",
    "    model.W1 -= w1_grad\n",
    "    model.W2 -= w2_grad\n",
    "    loss = model.MSE(y, y_hat)\n",
    "    loss_list.append(loss.sum())\n",
    "    if i % 10 == 0:\n",
    "        print(f'epoch:{i}, loss:{loss.sum()}')\n",
    "        \n",
    "plt.plot(loss_list)\n",
    "plt.show()\n"
   ]
  },
  {
   "cell_type": "markdown",
   "metadata": {},
   "source": [
    "#### 연습 -  hidden layer를 1개 추가해보기"
   ]
  },
  {
   "cell_type": "code",
   "execution_count": 189,
   "metadata": {
    "scrolled": true
   },
   "outputs": [
    {
     "name": "stdout",
     "output_type": "stream",
     "text": [
      "epoch:0, loss:0.00935976885673997\n",
      "epoch:10, loss:0.003784423803270584\n",
      "epoch:20, loss:0.0036825308529740424\n",
      "epoch:30, loss:0.003621811458798062\n",
      "epoch:40, loss:0.0035635091541120533\n",
      "epoch:50, loss:0.0035062666314993125\n",
      "epoch:60, loss:0.0034495589357418713\n",
      "epoch:70, loss:0.0033929084811731534\n",
      "epoch:80, loss:0.0033358709889611095\n",
      "epoch:90, loss:0.0032780374519884078\n"
     ]
    },
    {
     "data": {
      "image/png": "[encoded data removed]",
      "text/plain": [
       "<Figure size 432x288 with 1 Axes>"
      ]
     },
     "metadata": {},
     "output_type": "display_data"
    }
   ],
   "source": [
    "### step code\n",
    "x = np.array([[3, 5],[5, 1],[10, 2]])\n",
    "y = np.array([[0.75], [0.82], [0.93]])\n",
    "w1 = np.random.randn(2,4)\n",
    "w2 = np.random.randn(4,4)\n",
    "w3 = np.random.randn(4,1)\n",
    "loss_list = []\n",
    "\n",
    "for i in range(100):\n",
    "    z1 = x.dot(w1)\n",
    "    a1 = sigmoid(z1)\n",
    "    z2 = a1.dot(w2) \n",
    "    a2 = sigmoid(z2)\n",
    "    z3 = a2.dot(w3)\n",
    "    y_hat = sigmoid(z3)\n",
    "    loss = MSE(y,y_hat)/2\n",
    "    \n",
    "    delta1 = (y_hat-y)*sigmoid_prime(z3)\n",
    "    w3_gred = a2.T.dot(delta1)\n",
    "\n",
    "    delta2 = np.dot(delta1, w3.T) * sigmoid_prime(z2)\n",
    "    w2_gred = np.dot(a1.T, delta2)\n",
    "\n",
    "    delta3 = np.dot(delta2, w2.T) * sigmoid_prime(z1)\n",
    "    w1_gred = np.dot(x.T, delta3)\n",
    "\n",
    "    w3 -= w3_gred\n",
    "    w2 -= w2_gred\n",
    "    w1 -= w1_gred\n",
    "    loss_list.append(loss.sum())\n",
    "    if i % 10 == 0:\n",
    "        print(f'epoch:{i}, loss:{loss.sum()}')\n",
    "        \n",
    "plt.plot(loss_list)\n",
    "plt.show()\n",
    "\n"
   ]
  },
  {
   "cell_type": "markdown",
   "metadata": {},
   "source": [
    "#### 연습2 - activation function relu로 변경"
   ]
  },
  {
   "cell_type": "code",
   "execution_count": 190,
   "metadata": {},
   "outputs": [],
   "source": [
    "def relu(z):\n",
    "    x = z.copy()\n",
    "    x[x<0] = 0\n",
    "    return x\n",
    "\n",
    "def relu_prime(z):\n",
    "    p = np.zeros_like(z)\n",
    "    p[z>0] = 1\n",
    "    return p\n"
   ]
  },
  {
   "cell_type": "code",
   "execution_count": 191,
   "metadata": {},
   "outputs": [
    {
     "data": {
      "image/png": "[encoded data removed]",
      "text/plain": [
       "<Figure size 432x288 with 1 Axes>"
      ]
     },
     "metadata": {},
     "output_type": "display_data"
    }
   ],
   "source": [
    "plt.plot(relu(np.array([i for i in range(-100,100)])))\n",
    "plt.plot(relu_prime(np.array([i for i in range(-100,100)])))\n",
    "plt.show()\n"
   ]
  },
  {
   "cell_type": "code",
   "execution_count": 217,
   "metadata": {},
   "outputs": [
    {
     "name": "stdout",
     "output_type": "stream",
     "text": [
      "epoch:0, loss:0.3474521425942446\n",
      "epoch:10, loss:0.24090152245599786\n",
      "epoch:20, loss:0.17697122264605328\n",
      "epoch:30, loss:0.15752464918444603\n",
      "epoch:40, loss:0.1503371131846746\n",
      "epoch:50, loss:0.1469345317053783\n",
      "epoch:60, loss:0.1450458758766114\n",
      "epoch:70, loss:0.14388364069893994\n",
      "epoch:80, loss:0.1431159892973939\n",
      "epoch:90, loss:0.14258239678940088\n"
     ]
    },
    {
     "data": {
      "image/png": "[encoded data removed]",
      "text/plain": [
       "<Figure size 432x288 with 1 Axes>"
      ]
     },
     "metadata": {},
     "output_type": "display_data"
    }
   ],
   "source": [
    "### step code\n",
    "x = np.array([[3, 5],[5, 1],[10, 2]])\n",
    "y = np.array([[0.75], [0.82], [0.93]])\n",
    "w1 = np.random.randn(2,4)\n",
    "w2 = np.random.randn(4,8)\n",
    "w3 = np.random.randn(8,1)\n",
    "loss_list = []\n",
    "lr = 1e-4\n",
    "\n",
    "for i in range(100):\n",
    "    z1 = x.dot(w1)\n",
    "    a1 = relu(z1)\n",
    "    z2 = a1.dot(w2) \n",
    "    a2 = relu(z2)\n",
    "    z3 = a2.dot(w3)\n",
    "    y_hat = sigmoid(z3)\n",
    "    loss = MSE(y,y_hat)/2\n",
    "    \n",
    "    delta1 = (y_hat-y)*sigmoid_prime(z3)\n",
    "    w3_gred = a2.T.dot(delta1)\n",
    "\n",
    "    delta2 = np.dot(delta1, w3.T) * leru_prime(z2)\n",
    "    w2_gred = np.dot(a1.T, delta2)\n",
    "\n",
    "    delta3 = np.dot(delta2, w2.T) * leru_prime(z1)\n",
    "    w1_gred = np.dot(x.T, delta3)\n",
    "\n",
    "    w3 -= w3_gred * lr\n",
    "    w2 -= w2_gred * lr\n",
    "    w1 -= w1_gred * lr\n",
    "    loss_list.append(loss.sum())\n",
    "    if i % 10 == 0:\n",
    "        print(f'epoch:{i}, loss:{loss.sum()}')\n",
    "        \n",
    "plt.plot(loss_list)\n",
    "plt.show()\n",
    "\n"
   ]
  },
  {
   "cell_type": "code",
   "execution_count": null,
   "metadata": {},
   "outputs": [],
   "source": []
  }
 ],
 "metadata": {
  "kernelspec": {
   "display_name": "Python 3",
   "language": "python",
   "name": "python3"
  },
  "language_info": {
   "codemirror_mode": {
    "name": "ipython",
    "version": 3
   },
   "file_extension": ".py",
   "mimetype": "text/x-python",
   "name": "python",
   "nbconvert_exporter": "python",
   "pygments_lexer": "ipython3",
   "version": "3.6.4"
  }
 },
 "nbformat": 4,
 "nbformat_minor": 2
}
